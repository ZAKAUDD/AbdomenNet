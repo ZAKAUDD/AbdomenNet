{
 "cells": [
  {
   "cell_type": "code",
   "execution_count": 1,
   "metadata": {},
   "outputs": [],
   "source": [
    "# Change the dataset in global_vars.py to KORA.\n",
    "from global_vars import *\n",
    "from func import *\n",
    "\n",
    "import pickle as p\n",
    "import glob \n",
    "import json\n",
    "import subprocess\n",
    "import getpass\n",
    "import os\n",
    "from nibabel.orientations import axcodes2ornt, ornt_transform, inv_ornt_aff, flip_axis\n",
    "import matplotlib.pyplot as plt\n",
    "\n",
    "%load_ext autoreload\n",
    "%autoreload 2"
   ]
  },
  {
   "cell_type": "code",
   "execution_count": 2,
   "metadata": {},
   "outputs": [],
   "source": [
    "# from nibabel.orientations import axcodes2ornt, ornt_transform, inv_ornt_aff, flip_axis\n",
    "# vol = nb.load(f'{processed_dir}/volume/KORA2453666.nii.gz')\n",
    "# label = nb.load(f'{processed_dir}/label/KORA2453666.nii.gz')\n",
    "\n",
    "# label_d = flip_axis(label.get_fdata(), axis=0)\n",
    "# label_d = flip_axis(label_d, axis=2)\n",
    "# label = nb.Nifti1Image(label_d, label.affine, label.header)\n",
    "\n",
    "# print('Viewing Stitched Images.....')\n",
    "# volume_3_view_viewer(get_volume_data(vol))\n",
    "# volume_3_view_viewer(get_volume_data(label))\n",
    "\n",
    "# # save_volume(volume, f'{processed_dir}/volume/KORA2453666')\n",
    "# save_volume(label, f'{processed_dir}/label/KORA2453666')"
   ]
  },
  {
   "cell_type": "code",
   "execution_count": 3,
   "metadata": {},
   "outputs": [],
   "source": [
    "# Culprit 13 temp/KORA/processed_resized/label/KORA2460723.nii.gz\n",
    "# img = nb.load('temp/KORA/processed_resized/label/KORA2460723.nii.gz')\n",
    "# img_data= img.get_fdata()\n",
    "# img_data[0:188, 70:80, 228:232] = 0\n",
    "# empty_header = nibabel.Nifti1Header()\n",
    "# all_label_img = nb.Nifti1Image(img_data, img.affine, img.header)\n",
    "# save_volume(all_label_img, f'temp/KORA/processed_resized/label/KORA2460723_altered')\n",
    "\n",
    "def crop_roi(paths):\n",
    "    affine = None\n",
    "    data = np.zeros((256,256,400))\n",
    "    for idx, path in enumerate(paths):\n",
    "#         if '1004985_20201_2_0' in path:\n",
    "#             print('skipping :', idx)\n",
    "#             continue\n",
    "        print(path)\n",
    "        img = nb.load(path)\n",
    "        if affine is None:\n",
    "            affine = img.affine\n",
    "#         img = resample_from_to(img, [(300, 300, 300), img.affine])\n",
    "        img_data= img.get_fdata()\n",
    "        print(idx, path)\n",
    "#         img_data[img_data!=0] = idx\n",
    "#         img_data = np.round(img_data)\n",
    "        print(np.unique(img_data))\n",
    "        x,y,z = img.shape\n",
    "        print(x,y,z)\n",
    "        data[:x, :y, :z] += img_data\n",
    "        \n",
    "    empty_header = nibabel.Nifti1Header()\n",
    "    all_label_img = nb.Nifti1Image(data, affine, empty_header)\n",
    "    return all_label_img\n",
    "\n",
    "def crop(paths, shape):\n",
    "    s1, e1, s2, e2, s3, e3 = shape\n",
    "    for path in paths:\n",
    "        print(path)\n",
    "        img = nb.load(path)\n",
    "        print(img.shape)\n",
    "#         img = resample_from_to(img, [(300, 300, 300), img.affine])\n",
    "        img_data= img.get_fdata()\n",
    "        data = img_data[s1:e1, s2:e2, s3:e3]\n",
    "        img = nb.Nifti1Image(data, img.affine, img.header)\n",
    "        print(img.shape)\n",
    "        save_path = '/'.join(path.split('/')[:-1])\n",
    "        vol_id = path.split('/')[-1].split('.')[0]\n",
    "        save_volume(img, f'{save_path}_cropped/{vol_id}')\n",
    "\n",
    "def remove_black(labelmap):\n",
    "    clean_labels = []\n",
    "    start, end = None, None\n",
    "    start_2, end_2 = None, None\n",
    "    for i, frame in enumerate(labelmap):\n",
    "        unique, counts = np.unique(frame, return_counts=True)\n",
    "#         print(counts)\n",
    "#         if counts[3] < 2:\n",
    "#             continue\n",
    "        if counts[0] / sum(counts) < .99:\n",
    "            clean_labels.append(frame)\n",
    "            if start is None:\n",
    "                start = i\n",
    "            elif start_2 is None:\n",
    "                start_2 = i\n",
    "            if end is not None:\n",
    "                end_2 = end\n",
    "            end = None\n",
    "        if end is None:\n",
    "            end = i\n",
    "    if end is None:\n",
    "        end = labelmap.shape[0]\n",
    "            \n",
    "    return np.array(clean_labels), start, end, start_2, end_2\n",
    "\n",
    "\n"
   ]
  },
  {
   "cell_type": "code",
   "execution_count": 4,
   "metadata": {},
   "outputs": [
    {
     "name": "stdout",
     "output_type": "stream",
     "text": [
      "['temp/KORA/n4_corrected_2/vol/KORA2459692/OPP_ras_stitched.nii.gz', 'temp/KORA/n4_corrected_2/vol/KORA2456230/OPP_ras_stitched.nii.gz', 'temp/KORA/n4_corrected_2/vol/KORA2456507/OPP_ras_stitched.nii.gz', 'temp/KORA/n4_corrected_2/vol/KORA2459431/OPP_ras_stitched.nii.gz']\n"
     ]
    }
   ],
   "source": [
    "# processed_dir = 'temp/KORA/processed'\n",
    "# kora_labels = glob.glob(f'{processed_dir}/label/**')\n",
    "# kora_volumes = glob.glob(f'{processed_dir}/volume/**')\n",
    "processed_dir = 'temp/KORA/n4_corrected_2'\n",
    "# nako_labels = glob.glob(f'{processed_dir}/label/**')\n",
    "nako_volumes = glob.glob(f'{processed_dir}/vol/**/OPP_**')\n",
    "# processed_dir = 'temp/UKB/processed'\n",
    "# ukb_labels = glob.glob(f'{processed_dir}/label/**')\n",
    "# ukb_volumes = glob.glob(f'{processed_dir}/volume/**')\n",
    "\n",
    "# all_labels = kora_labels + nako_labels + ukb_labels\n",
    "# all_volumes = kora_volumes + nako_volumes + ukb_volumes\n",
    "\n",
    "# print(all_labels, all_volumes)\n",
    "print(nako_volumes)"
   ]
  },
  {
   "cell_type": "code",
   "execution_count": 5,
   "metadata": {},
   "outputs": [],
   "source": [
    "def resize(img, shape=(256, 256, 400), is_label=False):\n",
    "    if is_label:\n",
    "        order = 0\n",
    "    else:\n",
    "        order = 3\n",
    "    mode='constant'\n",
    "    print(img.shape)\n",
    "    img = resample_from_to(img, [shape, img.affine], order=order, mode=mode, cval=0)\n",
    "    return img"
   ]
  },
  {
   "cell_type": "code",
   "execution_count": 6,
   "metadata": {},
   "outputs": [
    {
     "name": "stdout",
     "output_type": "stream",
     "text": [
      "KORA2459692 temp/KORA/n4_corrected_2/vol\n",
      "(246, 123, 239)\n",
      "saving directory: temp/KORA/n4_corrected_2/vol_resized/volume\n",
      "KORA2456230 temp/KORA/n4_corrected_2/vol\n",
      "(246, 137, 239)\n",
      "saving directory: temp/KORA/n4_corrected_2/vol_resized/volume\n",
      "KORA2456507 temp/KORA/n4_corrected_2/vol\n",
      "(246, 191, 239)\n",
      "saving directory: temp/KORA/n4_corrected_2/vol_resized/volume\n",
      "KORA2459431 temp/KORA/n4_corrected_2/vol\n",
      "(246, 137, 239)\n",
      "saving directory: temp/KORA/n4_corrected_2/vol_resized/volume\n"
     ]
    }
   ],
   "source": [
    "for vol in nako_volumes:\n",
    "#     vol_id = vol.split('/')[-1].split('.')[0]\n",
    "    vol_id = vol.split('/')[-2]\n",
    "    save_path = '/'.join(vol.split('/')[:-2])\n",
    "    print(vol_id, save_path)\n",
    "    vol_img = nb.load(vol)\n",
    "    resized_img = resize(vol_img)\n",
    "    save_volume(resized_img, f'{save_path}_resized/volume/{vol_id}')"
   ]
  },
  {
   "cell_type": "code",
   "execution_count": null,
   "metadata": {},
   "outputs": [],
   "source": [
    "# for vol in ukb_labels:\n",
    "#     vol_id = vol.split('/')[-1].split('.')[0]\n",
    "#     save_path = '/'.join(vol.split('/')[:-2])\n",
    "#     print(vol_id, save_path)\n",
    "#     vol_img = nb.load(vol)\n",
    "#     resized_img = resize(vol_img, is_label=True)\n",
    "#     save_volume(resized_img, f'{save_path}_resized/label/{vol_id}')"
   ]
  },
  {
   "cell_type": "code",
   "execution_count": 7,
   "metadata": {},
   "outputs": [],
   "source": [
    "# processed_resized_dir = 'temp/KORA/processed_resized'\n",
    "# kora_labels = glob.glob(f'{processed_resized_dir}/label/**')\n",
    "# kora_volumes = glob.glob(f'{processed_resized_dir}/volume/**')\n",
    "processed_resized_dir = 'temp/KORA/n4_corrected_2/vol_resized'\n",
    "# nako_labels = glob.glob(f'{processed_resized_dir}/label/**')\n",
    "nako_volumes = glob.glob(f'{processed_resized_dir}/volume/**')\n",
    "# processed_resized_dir = 'temp/UKB/processed_resized'\n",
    "# ukb_labels = glob.glob(f'{processed_resized_dir}/label/**')\n",
    "# ukb_volumes = glob.glob(f'{processed_resized_dir}/volume/**')"
   ]
  },
  {
   "cell_type": "code",
   "execution_count": 8,
   "metadata": {},
   "outputs": [
    {
     "data": {
      "text/plain": [
       "['temp/KORA/n4_corrected_2/vol_resized/volume/KORA2459431.nii.gz',\n",
       " 'temp/KORA/n4_corrected_2/vol_resized/volume/KORA2459692.nii.gz',\n",
       " 'temp/KORA/n4_corrected_2/vol_resized/volume/KORA2456507.nii.gz',\n",
       " 'temp/KORA/n4_corrected_2/vol_resized/volume/KORA2456230.nii.gz']"
      ]
     },
     "execution_count": 8,
     "metadata": {},
     "output_type": "execute_result"
    }
   ],
   "source": [
    "nako_volumes"
   ]
  },
  {
   "cell_type": "code",
   "execution_count": null,
   "metadata": {},
   "outputs": [],
   "source": [
    "# kls = crop_roi(kora_labels)\n",
    "# volume_3_view_viewer(get_volume_data(kls))\n",
    "# save_volume(kls, f'all_labels_merged/all_kora_labels')\n",
    "\n",
    "# kls = crop_roi(nako_labels)\n",
    "# volume_3_view_viewer(get_volume_data(kls))\n",
    "# save_volume(kls, f'all_labels_merged/all_nako_labels')\n",
    "\n",
    "kls = crop_roi(ukb_labels)\n",
    "# resample_to_output()\n",
    "volume_3_view_viewer(get_volume_data(kls))\n",
    "save_volume(kls, f'all_labels_merged/all_ukb_labels')"
   ]
  },
  {
   "cell_type": "code",
   "execution_count": null,
   "metadata": {},
   "outputs": [],
   "source": [
    "# img = nb.load(f'all_labels_merged/all_kora_labels.nii.gz')\n",
    "# img_data = img.get_fdata()\n",
    "# img_d1, s1,e1, s12, e12 = remove_black(img_data)\n",
    "# img_data1 = np.moveaxis(img_data, 1, 0)\n",
    "# img_d2, s2,e2, s22, e22 = remove_black(img_data1)\n",
    "# img_data2 = np.moveaxis(img_data, 2, 0)\n",
    "# img_d3,s3,e3, s32, e32 = remove_black(img_data2)\n",
    "# # img_data = np.moveaxis(img_data, axis=0)\n",
    "\n",
    "# print('kora', img_d1.shape, img_d2.shape, img_d3.shape, s1,e1,s2,e2,s3,e3,'---', s12,e12,s22,e22,s32,e32)\n",
    "\n",
    "# img = nb.load(f'all_labels_merged/all_nako_labels.nii.gz')\n",
    "# img_data = img.get_fdata()\n",
    "# img_d1,s1,e1, s12, e12 = remove_black(img_data)\n",
    "# img_data1 = np.moveaxis(img_data, 1, 0)\n",
    "# img_d2,s2,e2, s22, e22 = remove_black(img_data1)\n",
    "# img_data2 = np.moveaxis(img_data, 2, 0)\n",
    "# img_d3,s3,e3, s32, e32 = remove_black(img_data2)\n",
    "# # img_data = np.moveaxis(img_data, axis=0)\n",
    "\n",
    "# print('nako', img_d1.shape, img_d2.shape, img_d3.shape, s1,e1,s2,e2,s3,e3,'---', s12,e12,s22,e22,s32,e32)\n",
    "\n",
    "img = nb.load(f'all_labels_merged/all_ukb_labels.nii.gz')\n",
    "img_data = img.get_fdata()\n",
    "img_d1,s1,e1, s12, e12 = remove_black(img_data)\n",
    "img_data1 = np.moveaxis(img_data, 1, 0)\n",
    "img_d2,s2,e2, s22, e22 = remove_black(img_data1)\n",
    "img_data2 = np.moveaxis(img_data, 2, 0)\n",
    "img_d3,s3,e3, s32, e32 = remove_black(img_data2)\n",
    "# img_data = np.moveaxis(img_data, axis=0)\n",
    "\n",
    "print('ukb', img_d1.shape, img_d2.shape, img_d3.shape, s1,e1, s2,e2, s3,e3,'---', s12,e12,s22,e22,s32,e32)"
   ]
  },
  {
   "cell_type": "code",
   "execution_count": null,
   "metadata": {},
   "outputs": [],
   "source": [
    "# KORA = 158,100,91   ---  49, 206, 23, 122, 84, 176  --> 40, 210, 5, 145, 80, 180 == 170, 140, 100  == 176, 144, 112/96  (Multiples of 16)\n",
    "        \"40, 215, 5, 175, 70, 180\" ==                                                   \"175, 170, 110\" ==  '192 176 112'\n",
    "# NAKO = 158,104,76    --- 44, 201, 40, 143, 169, 244  --> 41, 201, 23, 143, 169, 244 == 160, 120, 75 == 160, 128, 84 =AFTER FAT TALL MATCH= 31, 201, 23, 143, 160, 265 == \n",
    "#                                                                                      \"170, 120, 105\"\n",
    "# UKB= 163, 117, 97    --- 47, 209, 42, 158, 80, 176  --> 35, 215, 25, 170, 215, 315 == 180,145, 100 == 176/192, 144/160, 112 =AFTER FAT TALL[Missing] MATCH= \n",
    "#                                                       35, 215, 25, 170, 210, 315 == \"180, 145, 105\" (Evaluated on 6 merged UKB scans. BH+NOBH)\n",
    " \n",
    "# KORA sample vol size = 250, 188, 370\n",
    "# NAKO sample vol size = 226,184,316\n",
    "# UKB sample vol size = 246, 137, 239\n",
    "# sample target shape = 256, 256,400\n",
    "\n",
    "nako_volumes"
   ]
  },
  {
   "cell_type": "code",
   "execution_count": 22,
   "metadata": {},
   "outputs": [
    {
     "name": "stdout",
     "output_type": "stream",
     "text": [
      "temp/KORA/n4_corrected_2/vol_resized/volume/KORA2459431.nii.gz\n",
      "(256, 256, 400)\n",
      "(175, 170, 110)\n",
      "saving directory: temp/KORA/n4_corrected_2/vol_resized/volume_cropped\n",
      "temp/KORA/n4_corrected_2/vol_resized/volume/KORA2459692.nii.gz\n",
      "(256, 256, 400)\n",
      "(175, 170, 110)\n",
      "saving directory: temp/KORA/n4_corrected_2/vol_resized/volume_cropped\n",
      "temp/KORA/n4_corrected_2/vol_resized/volume/KORA2456507.nii.gz\n",
      "(256, 256, 400)\n",
      "(175, 170, 110)\n",
      "saving directory: temp/KORA/n4_corrected_2/vol_resized/volume_cropped\n",
      "temp/KORA/n4_corrected_2/vol_resized/volume/KORA2456230.nii.gz\n",
      "(256, 256, 400)\n",
      "(175, 170, 110)\n",
      "saving directory: temp/KORA/n4_corrected_2/vol_resized/volume_cropped\n"
     ]
    }
   ],
   "source": [
    "crop(nako_volumes, [40, 215, 5, 175, 70, 180])"
   ]
  },
  {
   "cell_type": "code",
   "execution_count": null,
   "metadata": {},
   "outputs": [],
   "source": [
    "crop(nako_labels, [41, 201, 23, 143, 169, 244])"
   ]
  },
  {
   "cell_type": "code",
   "execution_count": null,
   "metadata": {},
   "outputs": [],
   "source": []
  }
 ],
 "metadata": {
  "kernelspec": {
   "display_name": "Python 3",
   "language": "python",
   "name": "python3"
  },
  "language_info": {
   "codemirror_mode": {
    "name": "ipython",
    "version": 3
   },
   "file_extension": ".py",
   "mimetype": "text/x-python",
   "name": "python",
   "nbconvert_exporter": "python",
   "pygments_lexer": "ipython3",
   "version": "3.7.7"
  }
 },
 "nbformat": 4,
 "nbformat_minor": 4
}

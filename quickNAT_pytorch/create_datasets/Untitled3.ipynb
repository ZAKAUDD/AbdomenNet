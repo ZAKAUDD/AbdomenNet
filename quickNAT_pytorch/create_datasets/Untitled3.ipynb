{
 "cells": [
  {
   "cell_type": "code",
   "execution_count": 11,
   "metadata": {},
   "outputs": [
    {
     "name": "stdout",
     "output_type": "stream",
     "text": [
      "0: Looking for the next enclosure\n",
      "1: Looking for the next enclosure\n",
      "*** Main thread waiting\n",
      "*** Done\n"
     ]
    }
   ],
   "source": [
    "# System modules\n",
    "# import queue\n",
    "from multiprocessing import Queue\n",
    "from threading import Thread\n",
    "import time\n",
    "\n",
    "# Local modules\n",
    "import feedparser\n",
    "\n",
    "# Set up some global variables\n",
    "num_fetch_threads = \n",
    "enclosure_queue = queue.Queue()\n",
    "\n",
    "# A real app wouldn't use hard-coded data...\n",
    "feed_urls = [ 'http://www.castsampler.com/cast/feed/rss/guest',\n",
    "             ]\n",
    "\n",
    "\n",
    "def downloadEnclosures(i, q):\n",
    "    \"\"\"This is the worker thread function.\n",
    "    It processes items in the queue one after\n",
    "    another.  These daemon threads go into an\n",
    "    infinite loop, and only exit when\n",
    "    the main thread ends.\n",
    "    \"\"\"\n",
    "    while True:\n",
    "        print('%s: Looking for the next enclosure' % i)\n",
    "        url = q.get()\n",
    "        print('%s: Downloading:' % i, url)\n",
    "        # instead of really downloading the URL,\n",
    "        # we just pretend and sleep\n",
    "        time.sleep(i + 2)\n",
    "        q.task_done()\n",
    "\n",
    "\n",
    "# Set up some threads to fetch the enclosures\n",
    "for i in range(num_fetch_threads):\n",
    "    worker = Thread(target=downloadEnclosures, args=(i, enclosure_queue,))\n",
    "    worker.setDaemon(True)\n",
    "    worker.start()\n",
    "\n",
    "# Download the feed(s) and put the enclosure URLs into\n",
    "# the queue.\n",
    "for url in feed_urls:\n",
    "    response = feedparser.parse(url, agent='fetch_podcasts.py')\n",
    "    for entry in response['entries']:\n",
    "        for enclosure in entry.get('enclosures', []):\n",
    "            print('Queuing:', enclosure['url'])\n",
    "            enclosure_queue.put(enclosure['url'])\n",
    "        \n",
    "# Now wait for the queue to be empty, indicating that we have\n",
    "# processed all of the downloads.\n",
    "print('*** Main thread waiting')\n",
    "enclosure_queue.join()\n",
    "print('*** Done')\n"
   ]
  },
  {
   "cell_type": "code",
   "execution_count": 7,
   "metadata": {},
   "outputs": [
    {
     "name": "stdout",
     "output_type": "stream",
     "text": [
      "Collecting feedparser\n",
      "  Downloading feedparser-6.0.2-py3-none-any.whl (80 kB)\n",
      "\u001b[K     |████████████████████████████████| 80 kB 2.3 MB/s eta 0:00:011\n",
      "\u001b[?25hCollecting sgmllib3k\n",
      "  Downloading sgmllib3k-1.0.0.tar.gz (5.8 kB)\n",
      "Building wheels for collected packages: sgmllib3k\n",
      "  Building wheel for sgmllib3k (setup.py) ... \u001b[?25ldone\n",
      "\u001b[?25h  Created wheel for sgmllib3k: filename=sgmllib3k-1.0.0-py3-none-any.whl size=6065 sha256=39ead7f0bb2dc900c5e5c8e975c9a95548a2adf2e9aa9d5444cda8308513dae6\n",
      "  Stored in directory: /home/abhijit/.cache/pip/wheels/73/ad/a4/0dff4a6ef231fc0dfa12ffbac2a36cebfdddfe059f50e019aa\n",
      "Successfully built sgmllib3k\n",
      "Installing collected packages: sgmllib3k, feedparser\n",
      "Successfully installed feedparser-6.0.2 sgmllib3k-1.0.0\n"
     ]
    }
   ],
   "source": [
    "!pip install feedparser"
   ]
  },
  {
   "cell_type": "code",
   "execution_count": 13,
   "metadata": {},
   "outputs": [
    {
     "name": "stdout",
     "output_type": "stream",
     "text": [
      "[0, 1, 2, 3, 4, 5, 6, 7, 8]\n"
     ]
    }
   ],
   "source": [
    "b = [a for a in range(9)]\n",
    "print(b)"
   ]
  },
  {
   "cell_type": "code",
   "execution_count": null,
   "metadata": {},
   "outputs": [],
   "source": []
  }
 ],
 "metadata": {
  "kernelspec": {
   "display_name": "Python [conda env:remotenv]",
   "language": "python",
   "name": "conda-env-remotenv-py"
  },
  "language_info": {
   "codemirror_mode": {
    "name": "ipython",
    "version": 3
   },
   "file_extension": ".py",
   "mimetype": "text/x-python",
   "name": "python",
   "nbconvert_exporter": "python",
   "pygments_lexer": "ipython3",
   "version": "3.7.7"
  }
 },
 "nbformat": 4,
 "nbformat_minor": 4
}

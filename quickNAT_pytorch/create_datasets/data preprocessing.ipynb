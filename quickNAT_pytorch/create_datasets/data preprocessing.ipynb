{
 "cells": [
  {
   "cell_type": "code",
   "execution_count": 3,
   "metadata": {
    "pycharm": {
     "name": "#%%\n"
    }
   },
   "outputs": [],
   "source": [
    "import numpy as np\n",
    "import nibabel as nb\n",
    "import matplotlib.pyplot as plt"
   ]
  },
  {
   "cell_type": "code",
   "execution_count": null,
   "metadata": {
    "pycharm": {
     "name": "#%%\n"
    }
   },
   "outputs": [],
   "source": [
    "def nrrd_reader(file_path):\n",
    "    _nrrd = nrrd.read(file_path)\n",
    "    data = _nrrd[0]\n",
    "    header = _nrrd[1]\n",
    "    return data, header\n",
    "\n",
    "def nibabel_reader(file_path):\n",
    "    volume_nifty = nb.load(file_path)\n",
    "    volume = volume_nifty.get_fdata()\n",
    "    return volume, volume_nifty.header\n",
    "\n",
    "def file_reader(file_path, file_type):\n",
    "    header_mat = np.like((4,4))\n",
    "    if file_type == 'nrrd':\n",
    "        data, header = nrrd_reader(file_path)\n",
    "        affine = header['space directions']\n",
    "        affine = affine[:3, :3]\n",
    "        origins = header['space origin']\n",
    "        origins = origins[:3]\n",
    "        t_mat = from_matvec(affine, origins)\n",
    "        header_mat = t_mat\n",
    "    else:\n",
    "        data, header = nibabel_reader(file_path)\n",
    "        print(header)\n",
    "        header_mat = header\n",
    "    \n",
    "    return data, header_mat"
   ]
  },
  {
   "cell_type": "code",
   "execution_count": null,
   "outputs": [],
   "source": [
    "file_to_read = './datasets/kora/KORA2460249/t1_vibe_dixon_cor_caipi6_bh_288_iso_W_COMP_AD_-5_5.nii.gz'\n",
    "\n",
    "data = nb.load(file_to_read)\n",
    "print(data.header)\n",
    "    "
   ],
   "metadata": {
    "collapsed": false,
    "pycharm": {
     "name": "#%%\n"
    }
   }
  },
  {
   "cell_type": "code",
   "execution_count": null,
   "outputs": [],
   "source": [],
   "metadata": {
    "collapsed": false,
    "pycharm": {
     "name": "#%%\n"
    }
   }
  },
  {
   "cell_type": "code",
   "execution_count": 8,
   "metadata": {},
   "outputs": [
    {
     "name": "stdout",
     "output_type": "stream",
     "text": [
      "<class 'nibabel.nifti1.Nifti1Header'> object, endian='<'\n",
      "sizeof_hdr      : 348\n",
      "data_type       : b''\n",
      "db_name         : b''\n",
      "extents         : 0\n",
      "session_error   : 0\n",
      "regular         : b'r'\n",
      "dim_info        : 0\n",
      "dim             : [  3 293 427 645   1   1   1   1]\n",
      "intent_p1       : 0.0\n",
      "intent_p2       : 0.0\n",
      "intent_p3       : 0.0\n",
      "intent_code     : none\n",
      "datatype        : float32\n",
      "bitpix          : 32\n",
      "slice_start     : 0\n",
      "pixdim          : [1.        1.6666666 1.6666666 1.7000046 0.        0.        0.\n",
      " 0.       ]\n",
      "vox_offset      : 0.0\n",
      "scl_slope       : nan\n",
      "scl_inter       : nan\n",
      "slice_end       : 0\n",
      "slice_code      : unknown\n",
      "xyzt_units      : 2\n",
      "cal_max         : 0.0\n",
      "cal_min         : 0.0\n",
      "slice_duration  : 0.0\n",
      "toffset         : 0.0\n",
      "glmax           : 0\n",
      "glmin           : 0\n",
      "descrip         : b''\n",
      "aux_file        : b''\n",
      "qform_code      : aligned\n",
      "sform_code      : scanner\n",
      "quatern_b       : 0.0\n",
      "quatern_c       : 0.70710677\n",
      "quatern_d       : -0.70710677\n",
      "qoffset_x       : 266.92883\n",
      "qoffset_y       : 99.03311\n",
      "qoffset_z       : 24.676018\n",
      "srow_x          : [ -1.6666666   0.          0.        266.92883  ]\n",
      "srow_y          : [ 0.         0.        -1.7000046 99.03311  ]\n",
      "srow_z          : [ 0.        -1.6666666  0.        24.676018 ]\n",
      "intent_name     : b''\n",
      "magic           : b'n+1'\n"
     ]
    }
   ],
   "source": []
  },
  {
   "cell_type": "code",
   "execution_count": null,
   "metadata": {},
   "outputs": [],
   "source": []
  }
 ],
 "metadata": {
  "kernelspec": {
   "display_name": "Python 3",
   "language": "python",
   "name": "python3"
  },
  "language_info": {
   "codemirror_mode": {
    "name": "ipython",
    "version": 3
   },
   "file_extension": ".py",
   "mimetype": "text/x-python",
   "name": "python",
   "nbconvert_exporter": "python",
   "pygments_lexer": "ipython3",
   "version": "3.7.6"
  }
 },
 "nbformat": 4,
 "nbformat_minor": 4
}
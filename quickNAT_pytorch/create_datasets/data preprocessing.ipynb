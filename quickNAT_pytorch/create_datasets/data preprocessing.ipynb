{
 "cells": [
  {
   "cell_type": "code",
   "execution_count": null,
   "metadata": {
    "pycharm": {
     "name": "#%%\n"
    }
   },
   "outputs": [],
   "source": [
    "import os\n",
    "import numpy as np\n",
    "import nibabel as nb\n",
    "import matplotlib.pyplot as plt\n",
    "\n",
    "from nibabel.orientations import axcodes2ornt, ornt_transform, inv_ornt_aff\n",
    "from nibabel.affines import from_matvec, to_matvec, apply_affine\n",
    "from nibabel.processing import resample_to_output, resample_from_to"
   ]
  },
  {
   "cell_type": "markdown",
   "metadata": {},
   "source": [
    "## Variables"
   ]
  },
  {
   "cell_type": "code",
   "execution_count": null,
   "metadata": {},
   "outputs": [],
   "source": [
    "dataset = 'KORA' # 'NAKO', 'UKB', 'KORANAKOUKB'\n",
    "file_type = 'nifti'  # 'nerd'\n",
    "target_file_type = 'nifti'\n",
    "default_ornt = 'RAS'\n",
    "target_res = [2,2,3]\n",
    "default_view = ['Saggital', 'Coronal', 'Axial']\n",
    "default_ref_view = 'Sagittal'\n",
    "optimization = 'N4'  # Intensity, Min-Max, Fat-Water-Swap\n",
    "is_cropping = True\n",
    "default_world_coords = [500, 500, 1000]\n",
    "\n",
    "default_output_path = './temp'\n"
   ]
  },
  {
   "cell_type": "markdown",
   "metadata": {},
   "source": [
    "## Utilities"
   ]
  },
  {
   "cell_type": "code",
   "execution_count": null,
   "metadata": {},
   "outputs": [],
   "source": [
    "def create_if_not(path):\n",
    "    if not os.path.exists(path):\n",
    "        os.makedirs(path)\n",
    "\n",
    "# Creating the default paths needed for smooth execution.\n",
    "create_if_not(default_output_path)\n",
    "\n",
    "def volume_viewer(vol, axis_idx=0):\n",
    "    if axis_idx > 2:\n",
    "        raise Exception('Axis Index cannot be more than 2! Ideally 0: Sagittal, 1: Coronal, 2: Axial.')\n",
    "    axis = vol.shape\n",
    "    plt.imshow(vol[axis[axis_idx]//2])\n",
    "    plt.show()\n",
    "    \n",
    "def volume_3_view_viewer(vol):\n",
    "    fig, (ax1, ax2, ax3) = plt.subplots(1, 3, tight_layout=True)\n",
    "    axis = vol.shape\n",
    "    \n",
    "    ax1.imshow(vol[axis[0]//2])\n",
    "    ax2.imshow(vol[:, axis[1]//2, :])\n",
    "    ax3.imshow(vol[:, :, axis[2]//2])\n",
    "    \n",
    "    plt.show()\n",
    "    \n",
    "def get_volume_data(img):\n",
    "    print(f\"Affine:{img.affine}, Image Shape: {img.shape}\")\n",
    "    return img.get_fdata()\n",
    "\n",
    "def save_volume(img, file_name):\n",
    "    nb.save(img, f'{default_output_path}/{file_name}.nii.gz')\n",
    "    \n",
    "def sigmoid(x):\n",
    "    y = np.zeros(len(x))\n",
    "    for i in range(len(x)):\n",
    "        y[i] = 1 / (1 + np.exp(-x[i]))\n",
    "    return y"
   ]
  },
  {
   "cell_type": "markdown",
   "metadata": {},
   "source": [
    "## Volume Loader / Reader"
   ]
  },
  {
   "cell_type": "code",
   "execution_count": null,
   "metadata": {
    "pycharm": {
     "name": "#%%\n"
    }
   },
   "outputs": [],
   "source": [
    "def nrrd_reader(file_path):\n",
    "    _nrrd = nrrd.read(file_path)\n",
    "    data = _nrrd[0]\n",
    "    header = _nrrd[1]\n",
    "    return data, header, None\n",
    "\n",
    "def nibabel_reader(file_path):\n",
    "    volume_nifty = nb.load(file_path)\n",
    "    volume = get_volume_data(volume_nifty)\n",
    "    return volume, volume_nifty.header, volume_nifty\n",
    "\n",
    "def file_reader(file_path, file_type=None):\n",
    "    header_mat = np.empty_like((4,4))\n",
    "    if file_type == None:\n",
    "        file_type = file_path.split('.')[-1]\n",
    "    if file_type == 'nrrd':\n",
    "        data, header, img = nrrd_reader(file_path)\n",
    "        affine = header['space directions']\n",
    "        affine = affine[:3, :3]\n",
    "        origins = header['space origin']\n",
    "        origins = origins[:3]\n",
    "        t_mat = from_matvec(affine, origins)\n",
    "        img = nb.Nifti1Image(data, t_mat) if img is None else img\n",
    "        header_mat = t_mat\n",
    "        \n",
    "    else:\n",
    "        data, header, img = nibabel_reader(file_path)\n",
    "        header_mat = header\n",
    "    \n",
    "    return data, header_mat, img"
   ]
  },
  {
   "cell_type": "markdown",
   "metadata": {},
   "source": [
    "## Transformation :- Reading Direction Optimization"
   ]
  },
  {
   "cell_type": "code",
   "execution_count": null,
   "metadata": {},
   "outputs": [],
   "source": [
    "def do_nibabel_transform_to_ras(img):\n",
    "    affine = img.affine\n",
    "    orig_ornt = nb.io_orientation(affine)\n",
    "    targ_ornt = axcodes2ornt('RAS')\n",
    "    transform = ornt_transform(orig_ornt, targ_ornt)\n",
    "    img = img.as_reoriented(transform)\n",
    "    return img\n",
    "\n",
    "def vol_stitching(images):\n",
    "    # sort according to qoffset_z\n",
    "    images_sorted = sorted(images, key=lambda im: im.header['qoffset_z'], reverse=True)\n",
    "\n",
    "    # take the upper 2 scans\n",
    "    im_0 = images_sorted[0]\n",
    "    im_1 = images_sorted[1]\n",
    "\n",
    "    im_0_dim_v = im_0.shape[2]\n",
    "    im_1_dim_v = im_1.shape[2]\n",
    "\n",
    "    # calculate overlap region:\n",
    "    im_0_end = im_0.header['qoffset_z']\n",
    "    im_1_end = im_1.header['qoffset_z']\n",
    "\n",
    "    spacing = im_0.header['pixdim'][3]\n",
    "\n",
    "    im_0_dim_w = im_0_dim_v * spacing\n",
    "    im_1_dim_w = im_1_dim_v * spacing\n",
    "\n",
    "    im_1_start = im_1_end + im_1_dim_w\n",
    "    im_0_start = im_0_end + im_0_dim_w\n",
    "\n",
    "    overlap = abs(im_0_end - im_1_start)\n",
    "\n",
    "    overlap_v = int(round(overlap / spacing))\n",
    "\n",
    "    new_im_dim = abs(round((abs(im_1_end - im_0_start)) / spacing))\n",
    "\n",
    "    reduce_overlap_by = 0\n",
    "\n",
    "    new_img = np.empty([im_0.shape[0], im_0.shape[1], int(new_im_dim) + reduce_overlap_by])\n",
    "\n",
    "    im_0_data = im_0.get_fdata()\n",
    "    im_1_data = im_1.get_fdata()\n",
    "\n",
    "    overlap_v -= reduce_overlap_by\n",
    "\n",
    "    new_img[:, :, 0:(im_1_dim_v - overlap_v)] = im_1_data[:, :, 0:(im_1_dim_v - overlap_v)]\n",
    "    new_img[:, :, im_0_dim_v:] = im_0_data[:, :, overlap_v:]\n",
    "    \n",
    "    # overlap region:\n",
    "    sigmoid_c = sigmoid(np.linspace(-30, 30, overlap_v))\n",
    "    \n",
    "    for l in range(0, overlap_v):\n",
    "        new_img[:, :, (im_0_dim_v - overlap_v + l)] = \\\n",
    "        (1 - sigmoid_c[l]) * im_1_data[:,:, (im_0_dim_v - overlap_v) + l] + (sigmoid_c[l]) * im_0_data[:, :, l]\n",
    "        \n",
    "    empty_header = nb.Nifti1Header()\n",
    "    stitched_img = nb.Nifti1Image(new_img, im_1.affine, empty_header)\n",
    "    stitched_img.header['pixdim'] = im_1.header['pixdim']\n",
    "\n",
    "    return stitched_img"
   ]
  },
  {
   "cell_type": "markdown",
   "metadata": {},
   "source": [
    "## Actual Pre-Processing"
   ]
  },
  {
   "cell_type": "code",
   "execution_count": null,
   "metadata": {
    "pycharm": {
     "name": "#%%\n"
    }
   },
   "outputs": [],
   "source": [
    "print(\"STARTING.\")\n",
    "print('Reading Files.....')\n",
    "file_to_read1 = './datasets/kora/KORA2460249/t1_vibe_dixon_cor_caipi6_bh_288_iso_opp_8.nii.gz'\n",
    "file_to_read2 = './datasets/kora/KORA2460249/t1_vibe_dixon_cor_caipi6_bh_288_iso_opp_9.nii.gz'\n",
    "\n",
    "data1, header1, img1 = file_reader(file_to_read1, 'nifti')\n",
    "data2, header2, img2 = file_reader(file_to_read2, 'nifti')\n",
    "\n",
    "print('Viewing Raw Images.....')\n",
    "volume_3_view_viewer(get_volume_data(img1))\n",
    "volume_3_view_viewer(get_volume_data(img2))\n",
    "\n",
    "print('Transforming Raw Images to RAS.....')\n",
    "img1_ras = do_nibabel_transform_to_ras(img1)\n",
    "img2_ras = do_nibabel_transform_to_ras(img2)\n",
    "\n",
    "print('Viewing Transformed to RAS Images.....')\n",
    "volume_3_view_viewer(get_volume_data(img1_ras))\n",
    "volume_3_view_viewer(get_volume_data(img2_ras))\n",
    "\n",
    "print('Resampling to [2,2,3] Voxel DIM and Equal Shape.....')\n",
    "img1_ras_resampled = resample_to_output(img1_ras, (2,2,3), order=3, mode='constant', cval=0.0)\n",
    "# img2_ras_resampled = resample_to_output(img2_ras, (2,2,3), order=3, mode='constant', cval=0.0)\n",
    "\n",
    "target_affine = img1_ras_resampled.affine.copy()\n",
    "target_affine[2,3] = img2_ras.affine[2,3].copy()\n",
    "img2_ras_resampled = resample_from_to(img2_ras, [img1_ras_resampled.shape, target_affine])\n",
    "\n",
    "print('Viewing Resampled to \"Target Voxel Dim\" Images.....')\n",
    "volume_3_view_viewer(get_volume_data(img1_ras_resampled))\n",
    "volume_3_view_viewer(get_volume_data(img2_ras_resampled))\n",
    "\n",
    "print('Merging/Stitching Images.....')\n",
    "# print(f'Upper Image Shape:{img1_ras_resampled.shape} & Affine: {img1_ras_resampled.header}')\n",
    "# print(f'Lower Image Shape: {img2_ras_resampled.shape} & Affine: {img2_ras_resampled.header}')\n",
    "img_ras_sampled_combined = vol_stitching([img1_ras_resampled, img2_ras_resampled])\n",
    "# img_ras_sampled_combined = nb.funcs.concat_images([img1_ras_resampled, img2_ras_resampled], check_affines=True, axis=2)\n",
    "\n",
    "print('Viewing Stitched Images.....')\n",
    "volume_3_view_viewer(get_volume_data(img_ras_sampled_combined))\n",
    "\n",
    "print('Saving Processed & Stitched Image.....')\n",
    "save_volume(img_ras_sampled_combined, 'kora_ras_sampled_stitched')\n",
    "print('FINISHED.')"
   ]
  },
  {
   "cell_type": "code",
   "execution_count": null,
   "metadata": {},
   "outputs": [],
   "source": [
    "img = do_nibabel_transform_to_ras(img)\n",
    "volume_3_view_viewer(get_volume_data(img))\n",
    "\n",
    "out_img = resample_to_output(img, (2,2,3), order=3, mode='constant', cval=0.0)\n",
    "save_volume(out_img, 'kora_processed_sampled')\n",
    "volume_3_view_viewer(get_volume_data(out_img))\n",
    "out_img_1 = out_img"
   ]
  },
  {
   "cell_type": "code",
   "execution_count": null,
   "metadata": {},
   "outputs": [],
   "source": [
    "file_to_read2 = './datasets/kora/KORA2460249/t1_vibe_dixon_cor_caipi6_bh_288_iso_opp_9.nii.gz'\n",
    "\n",
    "data, header, img = file_reader(file_to_read2, 'nifti')\n",
    "\n",
    "volume_3_view_viewer(get_volume_data(img))\n"
   ]
  },
  {
   "cell_type": "code",
   "execution_count": null,
   "metadata": {},
   "outputs": [],
   "source": [
    "img = do_nibabel_transform_to_ras(img)\n",
    "volume_3_view_viewer(get_volume_data(img))\n",
    "\n",
    "out_img = resample_from_to(img, [out_img_1.shape, out_img_1.affine])\n",
    "save_volume(out_img, 'kora_processed_sampled')\n",
    "volume_3_view_viewer(get_volume_data(out_img))\n",
    "\n",
    "out_img_2 = out_img"
   ]
  },
  {
   "cell_type": "code",
   "execution_count": null,
   "metadata": {},
   "outputs": [],
   "source": [
    "print(f'Upper Image Shape:{out_img_1.shape}, Lower Image Shape: {out_img_2.shape}')\n",
    "# out_img = nb.funcs.as_closest_canonical(out_img, enforce_diag=True)\n",
    "out_img = nb.funcs.concat_images([out_img_2,out_img_1], check_affines=True, axis=2)\n",
    "volume_3_view_viewer(get_volume_data(out_img))"
   ]
  },
  {
   "cell_type": "code",
   "execution_count": null,
   "metadata": {},
   "outputs": [],
   "source": []
  },
  {
   "cell_type": "code",
   "execution_count": null,
   "metadata": {},
   "outputs": [],
   "source": []
  },
  {
   "cell_type": "code",
   "execution_count": null,
   "metadata": {},
   "outputs": [],
   "source": [
    "file_to_read = './datasets/nako/100017/100017_3D_GRE_TRA_opp/3D_GRE_TRA_opp_3D_GRE_TRA_1.nii.gz'\n",
    "\n",
    "data, header, img = file_reader(file_to_read)\n",
    "volume_3_view_viewer(get_volume_data(img))\n",
    "img = do_nibabel_transform_to_ras(img)\n",
    "volume_3_view_viewer(get_volume_data(img))\n",
    "save_volume(img, 'nako_processed')    "
   ]
  },
  {
   "cell_type": "code",
   "execution_count": null,
   "metadata": {},
   "outputs": [],
   "source": [
    "file_to_read = './datasets/ukb/5331775_20201_2_0/Dixon_BH_17s_F_Dixon_BH_17s.nii.gz'\n",
    "\n",
    "data, header, img = file_reader(file_to_read)\n",
    "volume_3_view_viewer(get_volume_data(img))\n",
    "img = do_nibabel_transform_to_ras(img)\n",
    "volume_3_view_viewer(get_volume_data(img))\n",
    "save_volume(img, 'ukb_processed')\n",
    "    "
   ]
  }
 ],
 "metadata": {
  "kernelspec": {
   "display_name": "Python 3",
   "language": "python",
   "name": "python3"
  },
  "language_info": {
   "codemirror_mode": {
    "name": "ipython",
    "version": 3
   },
   "file_extension": ".py",
   "mimetype": "text/x-python",
   "name": "python",
   "nbconvert_exporter": "python",
   "pygments_lexer": "ipython3",
   "version": "3.7.6"
  }
 },
 "nbformat": 4,
 "nbformat_minor": 4
}
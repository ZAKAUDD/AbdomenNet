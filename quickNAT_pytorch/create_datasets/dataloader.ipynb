{
 "cells": [
  {
   "cell_type": "code",
   "execution_count": null,
   "metadata": {},
   "outputs": [],
   "source": [
    "# %pip install -q \"monai[nibabel]\""
   ]
  },
  {
   "cell_type": "code",
   "execution_count": 1,
   "metadata": {},
   "outputs": [],
   "source": [
    "import glob\n",
    "import torch\n",
    "\n",
    "from commons import MRIDataset\n",
    "from monai.utils import first"
   ]
  },
  {
   "cell_type": "code",
   "execution_count": 2,
   "metadata": {},
   "outputs": [
    {
     "name": "stdout",
     "output_type": "stream",
     "text": [
      "(4320, 1, 145, 105) (4320, 145, 105)\n",
      "torch.Size([3, 1, 145, 105]) torch.Size([3, 145, 105])\n"
     ]
    }
   ],
   "source": [
    "ukb_volumes = sorted(glob.glob(f'temp/UKB/processed_resized/volume_cropped/**.nii.gz'))\n",
    "ukb_labels = sorted(glob.glob(f'temp/UKB/processed_resized/label_cropped/**.nii.gz'))\n",
    "\n",
    "ds = MRIDataset(ukb_volumes, ukb_labels)\n",
    "loader = torch.utils.data.DataLoader(ds, batch_size=3, num_workers=4)\n",
    "\n",
    "im, seg = first(loader)\n",
    "print(im.shape, seg.shape)"
   ]
  },
  {
   "cell_type": "code",
   "execution_count": 3,
   "metadata": {},
   "outputs": [
    {
     "name": "stdout",
     "output_type": "stream",
     "text": [
      "torch.Size([3, 1, 145, 105]) torch.Size([3, 145, 105])\n"
     ]
    }
   ],
   "source": [
    "im, seg = first(loader)\n",
    "print(im.shape, seg.shape)"
   ]
  },
  {
   "cell_type": "code",
   "execution_count": null,
   "metadata": {},
   "outputs": [],
   "source": []
  }
 ],
 "metadata": {
  "kernelspec": {
   "display_name": "Python 3",
   "language": "python",
   "name": "python3"
  },
  "language_info": {
   "codemirror_mode": {
    "name": "ipython",
    "version": 3
   },
   "file_extension": ".py",
   "mimetype": "text/x-python",
   "name": "python",
   "nbconvert_exporter": "python",
   "pygments_lexer": "ipython3",
   "version": "3.7.7"
  }
 },
 "nbformat": 4,
 "nbformat_minor": 4
}

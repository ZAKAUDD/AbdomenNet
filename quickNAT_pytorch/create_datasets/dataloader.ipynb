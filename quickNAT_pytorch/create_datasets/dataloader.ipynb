{
 "cells": [
  {
   "cell_type": "code",
   "execution_count": null,
   "metadata": {},
   "outputs": [],
   "source": [
    "# %pip install -q \"monai[nibabel]\""
   ]
  },
  {
   "cell_type": "code",
   "execution_count": null,
   "metadata": {},
   "outputs": [],
   "source": [
    "import glob\n",
    "import nibabel as nb\n",
    "import numpy as np\n",
    "import torch\n",
    "import torch.utils.data as data\n",
    "\n",
    "from monai.utils import first"
   ]
  },
  {
   "cell_type": "code",
   "execution_count": null,
   "metadata": {},
   "outputs": [],
   "source": [
    "\n",
    "class MRIDataset(data.Dataset):\n",
    "    def __init__(self, X_files, y_files, transforms=None):\n",
    "        self.X_files = X_files\n",
    "        self.y_files = y_files\n",
    "        self.transforms = transforms\n",
    "    \n",
    "        img_array = list()\n",
    "        label_array = list()\n",
    "        for vol_f, label_f in zip(self.X_files, self.y_files):\n",
    "            img, label = nb.load(vol_f), nb.load(label_f)\n",
    "            img_array.extend(np.array(img.get_fdata()))\n",
    "            label_array.extend(np.array(label.get_fdata()))\n",
    "            img.uncache()\n",
    "            label.uncache()\n",
    "            \n",
    "        X = np.stack(img_array, axis=0) if len(img_array) > 1 else img_array[0]\n",
    "        y = np.stack(label_array, axis=0) if len(label_array) > 1 else label_array[0]\n",
    "        self.X = X if len(X.shape) == 4 else X[:, np.newaxis, :, :]\n",
    "        self.y = y\n",
    "        print(self.X.shape, self.y.shape)\n",
    "        \n",
    "    def __getitem__(self, index):\n",
    "        img = torch.from_numpy(self.X[index])\n",
    "        label = torch.from_numpy(self.y[index])\n",
    "        return img, label\n",
    "\n",
    "    def __len__(self):\n",
    "        return len(self.y)"
   ]
  },
  {
   "cell_type": "code",
   "execution_count": 3,
   "metadata": {},
   "outputs": [
    {
     "name": "stdout",
     "output_type": "stream",
     "text": [
      "(4320, 1, 145, 100) (4320, 145, 100)\n",
      "torch.Size([3, 1, 145, 100]) torch.Size([3, 145, 100])\n"
     ]
    }
   ],
   "source": [
    "ukb_volumes = sorted(glob.glob(f'temp/UKB/processed_resized/volume_cropped/**.nii.gz'))\n",
    "ukb_labels = sorted(glob.glob(f'temp/UKB/processed_resized/label_cropped/**.nii.gz'))\n",
    "\n",
    "ds = MRIDataset(ukb_volumes, ukb_labels)\n",
    "loader = torch.utils.data.DataLoader(ds, batch_size=3, num_workers=4)\n",
    "\n",
    "im, seg = first(loader)\n",
    "print(im.shape, seg.shape)"
   ]
  },
  {
   "cell_type": "code",
   "execution_count": 4,
   "metadata": {},
   "outputs": [
    {
     "name": "stdout",
     "output_type": "stream",
     "text": [
      "torch.Size([3, 1, 145, 100]) torch.Size([3, 145, 100])\n"
     ]
    }
   ],
   "source": [
    "im, seg = first(loader)\n",
    "print(im.shape, seg.shape)"
   ]
  },
  {
   "cell_type": "code",
   "execution_count": null,
   "metadata": {},
   "outputs": [],
   "source": []
  }
 ],
 "metadata": {
  "kernelspec": {
   "display_name": "Python 3",
   "language": "python",
   "name": "python3"
  },
  "language_info": {
   "codemirror_mode": {
    "name": "ipython",
    "version": 3
   },
   "file_extension": ".py",
   "mimetype": "text/x-python",
   "name": "python",
   "nbconvert_exporter": "python",
   "pygments_lexer": "ipython3",
   "version": "3.7.7"
  }
 },
 "nbformat": 4,
 "nbformat_minor": 4
}

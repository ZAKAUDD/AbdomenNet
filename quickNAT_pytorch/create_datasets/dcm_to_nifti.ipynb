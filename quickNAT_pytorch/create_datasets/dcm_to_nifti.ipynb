{
 "cells": [
  {
   "cell_type": "code",
   "execution_count": 3,
   "metadata": {},
   "outputs": [],
   "source": [
    "import os\n",
    "import subprocess\n",
    "import pandas as pd\n",
    "from zipfile import ZipFile"
   ]
  },
  {
   "cell_type": "code",
   "execution_count": 4,
   "metadata": {},
   "outputs": [
    {
     "name": "stdout",
     "output_type": "stream",
     "text": [
      "['dcm2niix', '-z', ' ', '-f', '%d_%p', '-o', '/mnt/nas/Abhijit/Jyotirmay/abdominal_segmentation/ukb_niftis/3471170_20201_2_0', '/mnt/nas/Abhijit/Jyotirmay/abdominal_segmentation/ukb_extracts/3471170_20201_2_0']\n",
      "/mnt/nas/Abhijit/Jyotirmay/abdominal_segmentation/ukb_niftis/3471170_20201_2_0\n"
     ]
    }
   ],
   "source": [
    "another_path = '/mnt/nas/Data_WholeBody/UKBiobank/release4/body/zips'\n",
    "df = pd.read_csv('/mnt/nas/Users/Sebastian/UKB/ukb_selected_diabetes_data_matched.csv')\n",
    "volumes_to_use = df['Unnamed: 0'].values.tolist()\n",
    "dirs = [fs.split('.')[0] for fs in os.listdir(another_path)]\n",
    "\n",
    "# fullbodyFolder = '/mnt/nas/Abhijit/Jyotirmay/abdominal_segmentation/ukb_extracts/'\n",
    "# outputFolder = '/mnt/nas/Abhijit/Jyotirmay/abdominal_segmentation/ukb_niftis/'\n",
    "print(len(dirs))\n",
    "in_vol = []\n",
    "in_vol_dirs = []\n",
    "for vol in volumes_to_use:\n",
    "    vol = f\"{vol}_20201_2_0\"\n",
    "    if vol in dirs:\n",
    "        in_vol.append(vol)\n",
    "        in_vol_dirs.append(f\"/mnt/nas/Data_WholeBody/UKBiobank/release4/body/zips/{vol}.zip\")\n",
    "        with ZipFile(f\"/mnt/nas/Data_WholeBody/UKBiobank/release4/body/zips/{vol}.zip\", 'r') as zipObj:\n",
    "           # Extract all the contents of zip file in different directory\n",
    "           zipObj.extractall(f'/mnt/nas/Abhijit/Jyotirmay/abdominal_segmentation/ukb_extracts/{vol}')\n",
    "        \n",
    "        path = f'/mnt/nas/Abhijit/Jyotirmay/abdominal_segmentation/ukb_extracts/{vol}'\n",
    "        outputPath = f'/mnt/nas/Abhijit/Jyotirmay/abdominal_segmentation/ukb_niftis/{vol}'\n",
    "        if not os.path.exists(outputPath):\n",
    "            os.makedirs(outputPath)\n",
    "        print(['dcm2niix','-z',' ','-f' ,'%d_%p','-o', outputPath, path])\n",
    "        subprocess.run(['dcm2niix','-z','y','-f' ,'%d_%p','-o', outputPath, path])\n",
    "        print(outputPath)\n",
    "        break\n",
    "# print(len(in_vol))"
   ]
  },
  {
   "cell_type": "code",
   "execution_count": null,
   "metadata": {},
   "outputs": [],
   "source": [
    "fullbodyFolder = '/mnt/nas/Data_WholeBody/UKBiobank/body/zips/'\n",
    "outputFolder = '/mnt/nas/Data_WholeBody/UKBiobank/body/body_nifti/'\n",
    "\n",
    "listFolders =  os.listdir(fullbodyFolder)\n",
    "\n",
    "for filename in listFolders:\n",
    "    path = fullbodyFolder + filename\n",
    "    if os.path.isdir(path):\n",
    "        outputPath = outputFolder + filename \n",
    "        if not os.path.exists(outputPath):\n",
    "            os.makedirs(outputPath)\n",
    "            print(['/home/benjamin/dcm2niix/build/bin/dcm2niix','-z',' ','-f' ,'%d_%p','-o', outputPath, path])\n",
    "            subprocess.run(['/home/benjamin/dcm2niix/build/bin/dcm2niix','-z','y','-f' ,'%d_%p','-o', outputPath, path])\n",
    "            print(outputPath)"
   ]
  },
  {
   "cell_type": "code",
   "execution_count": 8,
   "metadata": {},
   "outputs": [],
   "source": [
    "import shutil\n",
    "shutil.rmtree(\"/mnt/nas/Abhijit/Jyotirmay/abdominal_segmentation/ukb_extracts/1040814_20201_2_0\")"
   ]
  },
  {
   "cell_type": "code",
   "execution_count": null,
   "metadata": {},
   "outputs": [],
   "source": []
  }
 ],
 "metadata": {
  "kernelspec": {
   "display_name": "Python [conda env:remotenv]",
   "language": "python",
   "name": "conda-env-remotenv-py"
  },
  "language_info": {
   "codemirror_mode": {
    "name": "ipython",
    "version": 3
   },
   "file_extension": ".py",
   "mimetype": "text/x-python",
   "name": "python",
   "nbconvert_exporter": "python",
   "pygments_lexer": "ipython3",
   "version": "3.7.7"
  }
 },
 "nbformat": 4,
 "nbformat_minor": 4
}

{
 "cells": [
  {
   "cell_type": "code",
   "execution_count": 3,
   "metadata": {},
   "outputs": [],
   "source": [
    "import numpy as np\n",
    "import glob\n",
    "import os\n",
    "import nibabel as nb"
   ]
  },
  {
   "cell_type": "code",
   "execution_count": 4,
   "metadata": {},
   "outputs": [],
   "source": [
    "labels = glob.glob('/mnt/nas/Abhijit/Jyotirmay/abdominal_segmentation/dataset5/ALL/**/label/**')"
   ]
  },
  {
   "cell_type": "code",
   "execution_count": 6,
   "metadata": {},
   "outputs": [],
   "source": [
    "# labels"
   ]
  },
  {
   "cell_type": "code",
   "execution_count": 10,
   "metadata": {},
   "outputs": [
    {
     "name": "stdout",
     "output_type": "stream",
     "text": [
      "/mnt/nas/Abhijit/Jyotirmay/abdominal_segmentation/dataset5/ALL/train/label/1002359_20201_2_0.nii.gz 8 [0. 1. 2. 3. 4. 5. 6. 7.]\n",
      "/mnt/nas/Abhijit/Jyotirmay/abdominal_segmentation/dataset5/ALL/train/label/1138634_20201_2_0.nii.gz 8 [0. 1. 2. 3. 4. 5. 6. 8.]\n",
      "/mnt/nas/Abhijit/Jyotirmay/abdominal_segmentation/dataset5/ALL/train/label/1584559_20201_2_0.nii.gz 8 [0. 1. 2. 3. 4. 5. 6. 7.]\n",
      "/mnt/nas/Abhijit/Jyotirmay/abdominal_segmentation/dataset5/ALL/train/label/4154467_20201_2_0.nii.gz 8 [0. 1. 2. 3. 4. 5. 6. 8.]\n",
      "/mnt/nas/Abhijit/Jyotirmay/abdominal_segmentation/dataset5/ALL/train/label/4627690_20201_2_0.nii.gz 8 [0. 1. 2. 3. 4. 5. 6. 7.]\n",
      "/mnt/nas/Abhijit/Jyotirmay/abdominal_segmentation/dataset5/ALL/train/label/5764643_20201_2_0.nii.gz 8 [0. 1. 2. 3. 4. 5. 6. 8.]\n",
      "/mnt/nas/Abhijit/Jyotirmay/abdominal_segmentation/dataset5/ALL/train/label/6025746_20201_2_0.nii.gz 8 [0. 1. 2. 3. 4. 5. 6. 7.]\n",
      "/mnt/nas/Abhijit/Jyotirmay/abdominal_segmentation/dataset5/ALL/train/label/100161.nii.gz 8 [0. 1. 2. 3. 4. 5. 6. 7.]\n",
      "/mnt/nas/Abhijit/Jyotirmay/abdominal_segmentation/dataset5/ALL/train/label/100183.nii.gz 8 [0. 1. 2. 3. 4. 5. 6. 7.]\n",
      "/mnt/nas/Abhijit/Jyotirmay/abdominal_segmentation/dataset5/ALL/train/label/KORA2459728.nii.gz 8 [0. 1. 3. 4. 5. 6. 7. 8.]\n",
      "/mnt/nas/Abhijit/Jyotirmay/abdominal_segmentation/dataset5/ALL/train/label/KORA2460830.nii.gz 8 [0. 1. 2. 3. 4. 5. 6. 8.]\n"
     ]
    }
   ],
   "source": [
    "for l in labels:\n",
    "    uc = len(np.unique(nb.load(l).get_fdata()))\n",
    "    if uc !=9:\n",
    "        print(l, uc, np.unique(nb.load(l).get_fdata()))"
   ]
  },
  {
   "cell_type": "code",
   "execution_count": null,
   "metadata": {},
   "outputs": [],
   "source": []
  }
 ],
 "metadata": {
  "kernelspec": {
   "display_name": "Python 3",
   "language": "python",
   "name": "python3"
  },
  "language_info": {
   "codemirror_mode": {
    "name": "ipython",
    "version": 3
   },
   "file_extension": ".py",
   "mimetype": "text/x-python",
   "name": "python",
   "nbconvert_exporter": "python",
   "pygments_lexer": "ipython3",
   "version": "3.7.7"
  }
 },
 "nbformat": 4,
 "nbformat_minor": 4
}
